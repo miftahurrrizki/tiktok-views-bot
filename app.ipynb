{
 "cells": [
  {
   "cell_type": "code",
   "execution_count": 69,
   "metadata": {},
   "outputs": [],
   "source": [
    "# pip install selenium"
   ]
  },
  {
   "cell_type": "code",
   "execution_count": 70,
   "metadata": {},
   "outputs": [],
   "source": [
    "from selenium import webdriver\n",
    "from selenium.webdriver.common.by import By\n",
    "from selenium.webdriver.chrome.options import Options\n",
    "import time"
   ]
  },
  {
   "cell_type": "code",
   "execution_count": 71,
   "metadata": {},
   "outputs": [],
   "source": [
    "def total_views(video_url, repeat_count=5):\n",
    "    # Menggunakan Chrome WebDriver dengan opsi headless (jika diperlukan)\n",
    "    chrome_options = Options()\n",
    "    # Uncomment the next line to run Chrome in headless mode\n",
    "    # chrome_options.add_argument(\"--headless\")\n",
    "\n",
    "    driver = webdriver.Chrome(options=chrome_options)\n",
    "\n",
    "    try:\n",
    "        # Buka halaman video TikTok\n",
    "        driver.get(video_url)\n",
    "\n",
    "        # Tunggu beberapa detik agar video ter-load\n",
    "        time.sleep(5)\n",
    "\n",
    "        for _ in range(repeat_count):\n",
    "            # Temukan elemen video (sesuaikan selector dengan elemen yang benar)\n",
    "            video_element = driver.find_element(By.TAG_NAME, \"video\")\n",
    "\n",
    "            # Klik elemen video menggunakan JavaScript\n",
    "            driver.execute_script(\"arguments[0].click();\", video_element)\n",
    "\n",
    "            # Tunggu durasi video (sesuaikan waktu tunggu dengan durasi video)\n",
    "            # Misalnya, jika video berdurasi 30 detik, maka tunggu selama 30 detik\n",
    "            time.sleep(3)\n",
    "\n",
    "            # Refresh halaman untuk mengulang pemutaran video\n",
    "            driver.refresh()\n",
    "\n",
    "            # Tunggu beberapa detik agar video ter-load kembali\n",
    "            time.sleep(5)\n",
    "\n",
    "    finally:\n",
    "        # Tutup browser\n",
    "        driver.quit()"
   ]
  },
  {
   "cell_type": "code",
   "execution_count": 72,
   "metadata": {},
   "outputs": [],
   "source": [
    "# Contoh penggunaan\n",
    "video_url = (\n",
    "    \"https://www.tiktok.com/@miftahahahahaha/video/7037438481626336538?lang=id-ID\"\n",
    ")\n",
    "total_views(video_url)"
   ]
  }
 ],
 "metadata": {
  "kernelspec": {
   "display_name": "base",
   "language": "python",
   "name": "python3"
  },
  "language_info": {
   "codemirror_mode": {
    "name": "ipython",
    "version": 3
   },
   "file_extension": ".py",
   "mimetype": "text/x-python",
   "name": "python",
   "nbconvert_exporter": "python",
   "pygments_lexer": "ipython3",
   "version": "3.10.9"
  }
 },
 "nbformat": 4,
 "nbformat_minor": 2
}
